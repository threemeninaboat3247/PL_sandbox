{
 "cells": [
  {
   "cell_type": "markdown",
   "metadata": {},
   "source": [
    "# Python自身の機能についてまとめる"
   ]
  },
  {
   "cell_type": "markdown",
   "metadata": {},
   "source": [
    "## 辞書型\n",
    "### 最大(最小値)の取得"
   ]
  },
  {
   "cell_type": "code",
   "execution_count": 1,
   "metadata": {
    "collapsed": true
   },
   "outputs": [],
   "source": [
    "d = {0: 0, 1: 1, 2: 4, 3: 9, 4: 9}"
   ]
  },
  {
   "cell_type": "code",
   "execution_count": 7,
   "metadata": {},
   "outputs": [
    {
     "name": "stdout",
     "output_type": "stream",
     "text": [
      "4\n",
      "9\n",
      "3\n",
      "(3, 9)\n"
     ]
    }
   ],
   "source": [
    "# keyの最大値\n",
    "print(max(d))\n",
    "\n",
    "# valueの最大値\n",
    "print(max(d.values()))\n",
    "\n",
    "# valueの最大値に対応するkey keyそのものを比較するのでは無く、key引数に指定した関数にkeyを渡して呼び出した結果を比較する。結果はkeyで返す\n",
    "print(max(d, key=d.get))\n",
    "\n",
    "# 上の結果をkeyとvalueをセットで取得する\n",
    "print(max(d.items(), key=lambda x: x[1]))"
   ]
  },
  {
   "cell_type": "markdown",
   "metadata": {
    "collapsed": true
   },
   "source": [
    "## 文字列フォーマット\n",
    "古い順にprintf形式、formatメソッド、f文字列という方法がある。\n",
    "### formatメソッド\n"
   ]
  },
  {
   "cell_type": "code",
   "execution_count": null,
   "metadata": {
    "collapsed": true
   },
   "outputs": [],
   "source": [
    "# "
   ]
  }
 ],
 "metadata": {
  "kernelspec": {
   "display_name": "Python 3",
   "language": "python",
   "name": "python3"
  },
  "language_info": {
   "codemirror_mode": {
    "name": "ipython",
    "version": 3
   },
   "file_extension": ".py",
   "mimetype": "text/x-python",
   "name": "python",
   "nbconvert_exporter": "python",
   "pygments_lexer": "ipython3",
   "version": "3.6.3"
  }
 },
 "nbformat": 4,
 "nbformat_minor": 2
}
