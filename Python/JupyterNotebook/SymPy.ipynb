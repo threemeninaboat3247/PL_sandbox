{
 "cells": [
  {
   "cell_type": "markdown",
   "metadata": {},
   "source": [
    "# Linear Fitting by Python\n",
    "Least square linear fitting when data has errors in both x and y directions.  \n",
    "data:  \n",
    "$$(x_i,y_i)\\ \\ \\ (i=1,2,\\cdot\\cdot\\cdot,N)$$\n",
    "fitting function:  \n",
    "$$y=ax+b$$\n",
    "evaluation value:  \n",
    "$$S(a,b)=\\sum_i\\frac{(y_i-ax_i-b)^2}{1+a^2}$$"
   ]
  },
  {
   "cell_type": "code",
   "execution_count": 1,
   "metadata": {
    "collapsed": true
   },
   "outputs": [],
   "source": [
    "from sympy import *\n",
    "init_printing()"
   ]
  },
  {
   "cell_type": "markdown",
   "metadata": {},
   "source": [
    "calculate $\\frac{\\partial S}{\\partial a},\\frac{\\partial S}{\\partial b}$ by SymPy"
   ]
  },
  {
   "cell_type": "code",
   "execution_count": 32,
   "metadata": {
    "collapsed": false
   },
   "outputs": [
    {
     "data": {
      "image/png": "[encoded data removed]",
      "text/latex": [
       "$$\\frac{1}{a^{2} + 1} \\left(- a x - b + y\\right)^{2}$$"
      ],
      "text/plain": [
       "              2\n",
       "(-a⋅x - b + y) \n",
       "───────────────\n",
       "      2        \n",
       "     a  + 1    "
      ]
     },
     "execution_count": 32,
     "metadata": {},
     "output_type": "execute_result"
    }
   ],
   "source": [
    "x=Symbol('x')\n",
    "y=Symbol('y')\n",
    "a=Symbol('a')\n",
    "b=Symbol('b')\n",
    "term=(y-a*x-b)**2/(1+a**2)\n",
    "term"
   ]
  },
  {
   "cell_type": "code",
   "execution_count": 33,
   "metadata": {
    "collapsed": false
   },
   "outputs": [
    {
     "data": {
      "image/png": "[encoded data removed]",
      "text/latex": [
       "$$- \\frac{2 a}{\\left(a^{2} + 1\\right)^{2}} \\left(- a x - b + y\\right)^{2} - \\frac{2 x}{a^{2} + 1} \\left(- a x - b + y\\right)$$"
      ],
      "text/plain": [
       "                    2                     \n",
       "  2⋅a⋅(-a⋅x - b + y)    2⋅x⋅(-a⋅x - b + y)\n",
       "- ─────────────────── - ──────────────────\n",
       "               2               2          \n",
       "       ⎛ 2    ⎞               a  + 1      \n",
       "       ⎝a  + 1⎠                           "
      ]
     },
     "execution_count": 33,
     "metadata": {},
     "output_type": "execute_result"
    }
   ],
   "source": [
    "term_a=diff(term,a)\n",
    "term_a"
   ]
  },
  {
   "cell_type": "code",
   "execution_count": 35,
   "metadata": {
    "collapsed": false
   },
   "outputs": [
    {
     "data": {
      "image/png": "[encoded data removed]",
      "text/latex": [
       "$$2 \\left(- a \\left(a x + b - y\\right) + x \\left(a^{2} + 1\\right)\\right) \\left(a x + b - y\\right)$$"
      ],
      "text/plain": [
       "  ⎛                     ⎛ 2    ⎞⎞              \n",
       "2⋅⎝-a⋅(a⋅x + b - y) + x⋅⎝a  + 1⎠⎠⋅(a⋅x + b - y)"
      ]
     },
     "execution_count": 35,
     "metadata": {},
     "output_type": "execute_result"
    }
   ],
   "source": [
    "term_a_n=term_a*(a**2+1)**2\n",
    "term_a_n=term_a_n.simplify()\n",
    "term_a_n"
   ]
  },
  {
   "cell_type": "code",
   "execution_count": 34,
   "metadata": {
    "collapsed": false
   },
   "outputs": [
    {
     "data": {
      "image/png": "[encoded data removed]",
      "text/latex": [
       "$$\\frac{1}{a^{2} + 1} \\left(2 a x + 2 b - 2 y\\right)$$"
      ],
      "text/plain": [
       "2⋅a⋅x + 2⋅b - 2⋅y\n",
       "─────────────────\n",
       "       2         \n",
       "      a  + 1     "
      ]
     },
     "execution_count": 34,
     "metadata": {},
     "output_type": "execute_result"
    }
   ],
   "source": [
    "term_b=diff(term,b)\n",
    "term_b"
   ]
  },
  {
   "cell_type": "code",
   "execution_count": 36,
   "metadata": {
    "collapsed": false
   },
   "outputs": [
    {
     "data": {
      "image/png": "[encoded data removed]",
      "text/latex": [
       "$$2 a x + 2 b - 2 y$$"
      ],
      "text/plain": [
       "2⋅a⋅x + 2⋅b - 2⋅y"
      ]
     },
     "execution_count": 36,
     "metadata": {},
     "output_type": "execute_result"
    }
   ],
   "source": [
    "term_b_n=term_b*(a**2+1)\n",
    "term_b_n=term_b_n.simplify()\n",
    "term_b_n"
   ]
  },
  {
   "cell_type": "code",
   "execution_count": 41,
   "metadata": {
    "collapsed": false
   },
   "outputs": [
    {
     "data": {
      "image/png": "[encoded data removed]",
      "text/latex": [
       "$$- a^{2} b x + a^{2} x y - a b^{2} + 2 a b y + a x^{2} - a y^{2} + b x - x y$$"
      ],
      "text/plain": [
       "   2        2          2                2      2            \n",
       "- a ⋅b⋅x + a ⋅x⋅y - a⋅b  + 2⋅a⋅b⋅y + a⋅x  - a⋅y  + b⋅x - x⋅y"
      ]
     },
     "execution_count": 41,
     "metadata": {},
     "output_type": "execute_result"
    }
   ],
   "source": [
    "(term_a_n/2).expand()"
   ]
  },
  {
   "cell_type": "markdown",
   "metadata": {},
   "source": [
    "From the calculation above,the necessary conditions for minimal $S(a,b)$ is:\n",
    "\\begin{align*}\n",
    "&\\frac{\\partial S}{\\partial a}=\\frac{\\partial S}{\\partial b}=0 \\\\\n",
    "\\Leftrightarrow &\\sum_i (x_i+ay_i-ab)(ax_i-y_i+b)=\\sum_i (ax_i-y_i+b)=0  \\\\\n",
    "\\Leftrightarrow &a\\sum_i x_i^2 +(a^2-1)\\sum_i x_iy_i-a\\sum_iy_i^2+(1-a^2)b\\sum_ix_i+\\\n",
    "2ab\\sum_iy_i-ab^2N=0\\ , \\\\\n",
    "&a\\sum_ix_i-\\sum_iy_i+Nb=0\n",
    "\\end{align*}"
   ]
  },
  {
   "cell_type": "code",
   "execution_count": 42,
   "metadata": {
    "collapsed": true
   },
   "outputs": [],
   "source": [
    "def con1(a,b,xs,ys):\n",
    "    #a,b:Symbol xs,ys:list\n",
    "    xx=sum([x**2 for x in xs])\n",
    "    xy=sum([x*y for x,y in zip(xs,ys)])\n",
    "    yy=sum([y**2 for y in ys])\n",
    "    x=sum(xs)\n",
    "    y=sum(ys)\n",
    "    N=len(xs)\n",
    "    expr=a*xx+(a**2-1)*xy-a*yy+(b-a**2*b)*x+2*a*b*y-a*b**2*N\n",
    "    return expr"
   ]
  },
  {
   "cell_type": "code",
   "execution_count": 43,
   "metadata": {
    "collapsed": false
   },
   "outputs": [
    {
     "data": {
      "image/png": "[encoded data removed]",
      "text/latex": [
       "$$- 15 a^{2} b + 148 a^{2} - 5 a b^{2} + 94 a b - 1152 a + 15 b - 148$$"
      ],
      "text/plain": [
       "      2          2        2                               \n",
       "- 15⋅a ⋅b + 148⋅a  - 5⋅a⋅b  + 94⋅a⋅b - 1152⋅a + 15⋅b - 148"
      ]
     },
     "execution_count": 43,
     "metadata": {},
     "output_type": "execute_result"
    }
   ],
   "source": [
    "xs=[1,2,3,4,5]\n",
    "ys=[3,1,34,4,5]\n",
    "con1(a,b,xs,ys)"
   ]
  },
  {
   "cell_type": "code",
   "execution_count": 44,
   "metadata": {
    "collapsed": true
   },
   "outputs": [],
   "source": [
    "def con2(a,b,xs,ys):\n",
    "    x=sum(xs)\n",
    "    y=sum(ys)\n",
    "    N=len(xs)\n",
    "    expr=a*x-y+N*b\n",
    "    return expr"
   ]
  },
  {
   "cell_type": "code",
   "execution_count": 48,
   "metadata": {
    "collapsed": false
   },
   "outputs": [
    {
     "data": {
      "image/png": "[encoded data removed]",
      "text/latex": [
       "$$15 a + 5 b - 47$$"
      ],
      "text/plain": [
       "15⋅a + 5⋅b - 47"
      ]
     },
     "execution_count": 48,
     "metadata": {},
     "output_type": "execute_result"
    }
   ],
   "source": [
    "con2(a,b,xs,ys)"
   ]
  },
  {
   "cell_type": "code",
   "execution_count": null,
   "metadata": {
    "collapsed": true
   },
   "outputs": [],
   "source": []
  },
  {
   "cell_type": "code",
   "execution_count": null,
   "metadata": {
    "collapsed": true
   },
   "outputs": [],
   "source": []
  },
  {
   "cell_type": "code",
   "execution_count": null,
   "metadata": {
    "collapsed": true
   },
   "outputs": [],
   "source": []
  },
  {
   "cell_type": "code",
   "execution_count": null,
   "metadata": {
    "collapsed": true
   },
   "outputs": [],
   "source": []
  },
  {
   "cell_type": "code",
   "execution_count": 7,
   "metadata": {
    "collapsed": true
   },
   "outputs": [],
   "source": [
    "sigma_a=diff(sigma,a)"
   ]
  },
  {
   "cell_type": "code",
   "execution_count": 8,
   "metadata": {
    "collapsed": false,
    "scrolled": true
   },
   "outputs": [
    {
     "data": {
      "image/png": "[encoded data removed]",
      "text/latex": [
       "$$- \\frac{2 a}{\\left(a^{2} + 1\\right)^{2}} \\left(- a x_{1} - b + y_{1}\\right)^{2} - \\frac{2 a}{\\left(a^{2} + 1\\right)^{2}} \\left(- a x_{2} - b + y_{2}\\right)^{2} - \\frac{2 a}{\\left(a^{2} + 1\\right)^{2}} \\left(- a x_{3} - b + y_{3}\\right)^{2} - \\frac{2 a}{\\left(a^{2} + 1\\right)^{2}} \\left(- a x_{4} - b + y_{4}\\right)^{2} - \\frac{2 a}{\\left(a^{2} + 1\\right)^{2}} \\left(- a x_{5} - b + y_{5}\\right)^{2} - \\frac{2 x_{1}}{a^{2} + 1} \\left(- a x_{1} - b + y_{1}\\right) - \\frac{2 x_{2}}{a^{2} + 1} \\left(- a x_{2} - b + y_{2}\\right) - \\frac{2 x_{3}}{a^{2} + 1} \\left(- a x_{3} - b + y_{3}\\right) - \\frac{2 x_{4}}{a^{2} + 1} \\left(- a x_{4} - b + y_{4}\\right) - \\frac{2 x_{5}}{a^{2} + 1} \\left(- a x_{5} - b + y_{5}\\right)$$"
      ],
      "text/plain": [
       "                      2                       2                       2       \n",
       "  2⋅a⋅(-a⋅x₁ - b + y₁)    2⋅a⋅(-a⋅x₂ - b + y₂)    2⋅a⋅(-a⋅x₃ - b + y₃)    2⋅a⋅\n",
       "- ───────────────────── - ───────────────────── - ───────────────────── - ────\n",
       "                2                       2                       2             \n",
       "        ⎛ 2    ⎞                ⎛ 2    ⎞                ⎛ 2    ⎞              \n",
       "        ⎝a  + 1⎠                ⎝a  + 1⎠                ⎝a  + 1⎠              \n",
       "\n",
       "                2                       2                                     \n",
       "(-a⋅x₄ - b + y₄)    2⋅a⋅(-a⋅x₅ - b + y₅)    2⋅x₁⋅(-a⋅x₁ - b + y₁)   2⋅x₂⋅(-a⋅x\n",
       "───────────────── - ───────────────────── - ───────────────────── - ──────────\n",
       "          2                       2                  2                       2\n",
       "  ⎛ 2    ⎞                ⎛ 2    ⎞                  a  + 1                  a \n",
       "  ⎝a  + 1⎠                ⎝a  + 1⎠                                            \n",
       "\n",
       "                                                                              \n",
       "₂ - b + y₂)   2⋅x₃⋅(-a⋅x₃ - b + y₃)   2⋅x₄⋅(-a⋅x₄ - b + y₄)   2⋅x₅⋅(-a⋅x₅ - b \n",
       "─────────── - ───────────────────── - ───────────────────── - ────────────────\n",
       "                       2                       2                       2      \n",
       " + 1                  a  + 1                  a  + 1                  a  + 1  \n",
       "                                                                              \n",
       "\n",
       "     \n",
       "+ y₅)\n",
       "─────\n",
       "     \n",
       "     \n",
       "     "
      ]
     },
     "execution_count": 8,
     "metadata": {},
     "output_type": "execute_result"
    }
   ],
   "source": [
    "sigma_a"
   ]
  },
  {
   "cell_type": "code",
   "execution_count": 9,
   "metadata": {
    "collapsed": true
   },
   "outputs": [],
   "source": [
    "sigma_aa=sigma_a*(a**2+1)**2"
   ]
  },
  {
   "cell_type": "code",
   "execution_count": 10,
   "metadata": {
    "collapsed": false
   },
   "outputs": [],
   "source": [
    "sigma_aa=sigma_aa.simplify()"
   ]
  },
  {
   "cell_type": "code",
   "execution_count": 11,
   "metadata": {
    "collapsed": false
   },
   "outputs": [
    {
     "data": {
      "image/png": "[encoded data removed]",
      "text/latex": [
       "$$- 2 a \\left(\\left(a x_{1} + b - y_{1}\\right)^{2} + \\left(a x_{2} + b - y_{2}\\right)^{2} + \\left(a x_{3} + b - y_{3}\\right)^{2} + \\left(a x_{4} + b - y_{4}\\right)^{2} + \\left(a x_{5} + b - y_{5}\\right)^{2}\\right) + 2 \\left(a^{2} + 1\\right) \\left(x_{1} \\left(a x_{1} + b - y_{1}\\right) + x_{2} \\left(a x_{2} + b - y_{2}\\right) + x_{3} \\left(a x_{3} + b - y_{3}\\right) + x_{4} \\left(a x_{4} + b - y_{4}\\right) + x_{5} \\left(a x_{5} + b - y_{5}\\right)\\right)$$"
      ],
      "text/plain": [
       "      ⎛               2                  2                  2                 \n",
       "- 2⋅a⋅⎝(a⋅x₁ + b - y₁)  + (a⋅x₂ + b - y₂)  + (a⋅x₃ + b - y₃)  + (a⋅x₄ + b - y₄\n",
       "\n",
       " 2                  2⎞     ⎛ 2    ⎞                                           \n",
       ")  + (a⋅x₅ + b - y₅) ⎠ + 2⋅⎝a  + 1⎠⋅(x₁⋅(a⋅x₁ + b - y₁) + x₂⋅(a⋅x₂ + b - y₂) +\n",
       "\n",
       "                                                              \n",
       " x₃⋅(a⋅x₃ + b - y₃) + x₄⋅(a⋅x₄ + b - y₄) + x₅⋅(a⋅x₅ + b - y₅))"
      ]
     },
     "execution_count": 11,
     "metadata": {},
     "output_type": "execute_result"
    }
   ],
   "source": [
    "sigma_aa"
   ]
  },
  {
   "cell_type": "code",
   "execution_count": 12,
   "metadata": {
    "collapsed": false,
    "scrolled": true
   },
   "outputs": [
    {
     "data": {
      "image/png": "[encoded data removed]",
      "text/latex": [
       "$$\\frac{1}{a^{2} + 1} \\left(2 a x_{1} + 2 b - 2 y_{1}\\right) + \\frac{1}{a^{2} + 1} \\left(2 a x_{2} + 2 b - 2 y_{2}\\right) + \\frac{1}{a^{2} + 1} \\left(2 a x_{3} + 2 b - 2 y_{3}\\right) + \\frac{1}{a^{2} + 1} \\left(2 a x_{4} + 2 b - 2 y_{4}\\right) + \\frac{1}{a^{2} + 1} \\left(2 a x_{5} + 2 b - 2 y_{5}\\right)$$"
      ],
      "text/plain": [
       "2⋅a⋅x₁ + 2⋅b - 2⋅y₁   2⋅a⋅x₂ + 2⋅b - 2⋅y₂   2⋅a⋅x₃ + 2⋅b - 2⋅y₃   2⋅a⋅x₄ + 2⋅b\n",
       "─────────────────── + ─────────────────── + ─────────────────── + ────────────\n",
       "        2                     2                     2                     2   \n",
       "       a  + 1                a  + 1                a  + 1                a  + \n",
       "\n",
       " - 2⋅y₄   2⋅a⋅x₅ + 2⋅b - 2⋅y₅\n",
       "─────── + ───────────────────\n",
       "                  2          \n",
       "1                a  + 1      "
      ]
     },
     "execution_count": 12,
     "metadata": {},
     "output_type": "execute_result"
    }
   ],
   "source": [
    "sigma_b=diff(sigma,b)\n",
    "sigma_b"
   ]
  },
  {
   "cell_type": "code",
   "execution_count": 14,
   "metadata": {
    "collapsed": false
   },
   "outputs": [
    {
     "data": {
      "image/png": "[encoded data removed]",
      "text/latex": [
       "$$2 a x_{1} + 2 a x_{2} + 2 a x_{3} + 2 a x_{4} + 2 a x_{5} + 10 b - 2 y_{1} - 2 y_{2} - 2 y_{3} - 2 y_{4} - 2 y_{5}$$"
      ],
      "text/plain": [
       "2⋅a⋅x₁ + 2⋅a⋅x₂ + 2⋅a⋅x₃ + 2⋅a⋅x₄ + 2⋅a⋅x₅ + 10⋅b - 2⋅y₁ - 2⋅y₂ - 2⋅y₃ - 2⋅y₄ \n",
       "- 2⋅y₅"
      ]
     },
     "execution_count": 14,
     "metadata": {},
     "output_type": "execute_result"
    }
   ],
   "source": [
    "sigma_bb=sigma_b*(a**2+1)\n",
    "sigma_bb=sigma_bb.simplify()\n",
    "sigma_bb"
   ]
  },
  {
   "cell_type": "code",
   "execution_count": 49,
   "metadata": {
    "collapsed": false
   },
   "outputs": [
    {
     "data": {
      "text/plain": [
       "[<matplotlib.lines.Line2D at 0x1d2839d89b0>]"
      ]
     },
     "execution_count": 49,
     "metadata": {},
     "output_type": "execute_result"
    },
    {
     "data": {
      "image/png": "[encoded data removed]",
      "text/plain": [
       "<matplotlib.figure.Figure at 0x1d2836fd5f8>"
      ]
     },
     "metadata": {},
     "output_type": "display_data"
    }
   ],
   "source": [
    "import matplotlib.pyplot as plt\n",
    "%matplotlib inline\n",
    "x=[1.1,2.05,3.1,3.98,5.02]\n",
    "y=[1,1.998,2.88,4.105,4.999]\n",
    "plt.plot(x,y,marker='o')\n"
   ]
  },
  {
   "cell_type": "code",
   "execution_count": 51,
   "metadata": {
    "collapsed": false,
    "scrolled": true
   },
   "outputs": [
    {
     "data": {
      "image/png": "[encoded data removed]",
      "text/latex": [
       "$$\\left [ \\left ( -0.965893807501485, \\quad 5.94237611287953\\right ), \\quad \\left ( 1.03531049918079, \\quad -0.161297022501421\\right )\\right ]$$"
      ],
      "text/plain": [
       "[(-0.965893807501485, 5.94237611287953), (1.03531049918079, -0.161297022501421\n",
       ")]"
      ]
     },
     "execution_count": 51,
     "metadata": {},
     "output_type": "execute_result"
    }
   ],
   "source": [
    "solve([con1(a,b,x,y),con2(a,b,x,y)],[a,b])"
   ]
  },
  {
   "cell_type": "code",
   "execution_count": 30,
   "metadata": {
    "collapsed": false
   },
   "outputs": [
    {
     "data": {
      "text/plain": [
       "[<matplotlib.lines.Line2D at 0x1d28331ef98>]"
      ]
     },
     "execution_count": 30,
     "metadata": {},
     "output_type": "execute_result"
    },
    {
     "data": {
      "image/png": "[encoded data removed]",
      "text/plain": [
       "<matplotlib.figure.Figure at 0x1d28331ea90>"
      ]
     },
     "metadata": {},
     "output_type": "display_data"
    }
   ],
   "source": [
    "import numpy as np\n",
    "x1=np.arange(0,6,0.1)\n",
    "y1=1.03531049918079*x1-0.16129702250142\n",
    "x=[1.1,2.05,3.1,3.98,5.02]\n",
    "y=[1,1.998,2.88,4.105,4.999]\n",
    "plt.plot(x,y,marker='o')\n",
    "plt.plot(x1,y1)"
   ]
  },
  {
   "cell_type": "code",
   "execution_count": null,
   "metadata": {
    "collapsed": true
   },
   "outputs": [],
   "source": []
  }
 ],
 "metadata": {
  "anaconda-cloud": {},
  "kernelspec": {
   "display_name": "Python 3",
   "language": "python",
   "name": "python3"
  },
  "language_info": {
   "codemirror_mode": {
    "name": "ipython",
    "version": 3
   },
   "file_extension": ".py",
   "mimetype": "text/x-python",
   "name": "python",
   "nbconvert_exporter": "python",
   "pygments_lexer": "ipython3",
   "version": "3.6.0"
  },
  "toc": {
   "nav_menu": {
    "height": "12px",
    "width": "252px"
   },
   "navigate_menu": true,
   "number_sections": true,
   "sideBar": false,
   "threshold": 4,
   "toc_cell": false,
   "toc_position": {
    "height": "690px",
    "left": "0px",
    "right": "712.4px",
    "top": "44.4px",
    "width": "226px"
   },
   "toc_section_display": "block",
   "toc_window_display": true
  }
 },
 "nbformat": 4,
 "nbformat_minor": 1
}
