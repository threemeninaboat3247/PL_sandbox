{
 "cells": [
  {
   "cell_type": "markdown",
   "metadata": {},
   "source": [
    "# 指定されたディレクトリ以下の全てのファイルの絶対パスをlist形式で返す関数"
   ]
  },
  {
   "cell_type": "code",
   "execution_count": 1,
   "metadata": {
    "collapsed": true
   },
   "outputs": [],
   "source": [
    "import os\n",
    "\n",
    "def find_all_files(directory):\n",
    "    '''\n",
    "    Return all the files under a directory\n",
    "    \n",
    "    Parameters:\n",
    "        directory: str\n",
    "            the absolute path of the directory to search\n",
    "    Returns:\n",
    "        list\n",
    "            the absolute pathes of files\n",
    "    '''\n",
    "    \n",
    "    def mygenerator(directory):\n",
    "        for root, dirs, files in os.walk(directory):\n",
    "            for file in files:\n",
    "                yield os.path.join(root, file)\n",
    "    \n",
    "    return list(mygenerator(directory))"
   ]
  },
  {
   "cell_type": "code",
   "execution_count": 3,
   "metadata": {},
   "outputs": [
    {
     "data": {
      "text/plain": [
       "['C:\\\\Users\\\\Yuki\\\\Desktop\\\\Skeleton\\\\kuchinawa\\\\outputdir\\\\linux-32\\\\kuchinawa-0.4-py36_0.tar.bz2',\n",
       " 'C:\\\\Users\\\\Yuki\\\\Desktop\\\\Skeleton\\\\kuchinawa\\\\outputdir\\\\linux-64\\\\kuchinawa-0.4-py36_0.tar.bz2',\n",
       " 'C:\\\\Users\\\\Yuki\\\\Desktop\\\\Skeleton\\\\kuchinawa\\\\outputdir\\\\osx-64\\\\kuchinawa-0.4-py36_0.tar.bz2',\n",
       " 'C:\\\\Users\\\\Yuki\\\\Desktop\\\\Skeleton\\\\kuchinawa\\\\outputdir\\\\win-32\\\\kuchinawa-0.4-py36_0.tar.bz2']"
      ]
     },
     "execution_count": 3,
     "metadata": {},
     "output_type": "execute_result"
    }
   ],
   "source": [
    "find_all_files(r'C:\\Users\\Yuki\\Desktop\\Skeleton\\kuchinawa\\outputdir')"
   ]
  },
  {
   "cell_type": "markdown",
   "metadata": {},
   "source": [
    "# 外部コマンドの呼び方"
   ]
  },
  {
   "cell_type": "code",
   "execution_count": 29,
   "metadata": {
    "collapsed": true,
    "scrolled": true
   },
   "outputs": [],
   "source": [
    "import subprocess\n",
    "result = subprocess.run('conda info -e', shell=True)"
   ]
  },
  {
   "cell_type": "markdown",
   "metadata": {},
   "source": [
    "# 指定ディレクトリ以下の全てのファイルをanacondaにアップ"
   ]
  },
  {
   "cell_type": "code",
   "execution_count": 3,
   "metadata": {
    "collapsed": true
   },
   "outputs": [],
   "source": [
    "import subprocess\n",
    "for file in find_all_files(r'C:\\Users\\Yuki\\Desktop\\Skeleton\\pyvisa\\outputdir34'):\n",
    "    subprocess.run('anaconda upload '+file, shell=True)"
   ]
  },
  {
   "cell_type": "code",
   "execution_count": 4,
   "metadata": {
    "collapsed": true
   },
   "outputs": [],
   "source": [
    "import subprocess\n",
    "for file in find_all_files(r'C:\\Users\\Yuki\\Desktop\\Skeleton\\pyvisa\\outputdir35'):\n",
    "    subprocess.run('anaconda upload '+file, shell=True)"
   ]
  },
  {
   "cell_type": "code",
   "execution_count": 5,
   "metadata": {
    "collapsed": true
   },
   "outputs": [],
   "source": [
    "import subprocess\n",
    "for file in find_all_files(r'C:\\Users\\Yuki\\Desktop\\Skeleton\\pyvisa\\outputdir36'):\n",
    "    subprocess.run('anaconda upload '+file, shell=True)"
   ]
  },
  {
   "cell_type": "code",
   "execution_count": 3,
   "metadata": {
    "collapsed": true
   },
   "outputs": [],
   "source": [
    "import subprocess\n",
    "for file in find_all_files(r'C:\\Users\\Yuki\\Desktop\\Skeleton\\coatl\\output35'):\n",
    "    subprocess.run('anaconda upload '+file, shell=True)"
   ]
  },
  {
   "cell_type": "code",
   "execution_count": null,
   "metadata": {
    "collapsed": true
   },
   "outputs": [],
   "source": []
  }
 ],
 "metadata": {
  "anaconda-cloud": {},
  "kernelspec": {
   "display_name": "Python 3",
   "language": "python",
   "name": "python3"
  },
  "language_info": {
   "codemirror_mode": {
    "name": "ipython",
    "version": 3
   },
   "file_extension": ".py",
   "mimetype": "text/x-python",
   "name": "python",
   "nbconvert_exporter": "python",
   "pygments_lexer": "ipython3",
   "version": "3.6.3"
  }
 },
 "nbformat": 4,
 "nbformat_minor": 2
}
